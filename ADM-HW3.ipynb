{
 "cells": [
  {
   "cell_type": "markdown",
   "metadata": {},
   "source": [
    "## Homework 3 - Which book would you recommend?"
   ]
  },
  {
   "cell_type": "markdown",
   "metadata": {},
   "source": [
    "-------------"
   ]
  },
  {
   "cell_type": "markdown",
   "metadata": {},
   "source": [
    "### Importing related libraries\n",
    "\n",
    "* Importing `functions.py` file to have access to our function"
   ]
  },
  {
   "cell_type": "code",
   "execution_count": 2,
   "metadata": {},
   "outputs": [],
   "source": [
    "from bs4 import BeautifulSoup\n",
    "import requests\n",
    "import lxml\n",
    "import csv\n",
    "import re\n",
    "import os\n",
    "import pandas as pd\n",
    "from langdetect import detect\n",
    "import nltk\n",
    "from nltk.tokenize import RegexpTokenizer\n",
    "from nltk.corpus import stopwords \n",
    "from nltk.stem import PorterStemmer\n",
    "import numpy as np\n",
    "import glob\n",
    "import pickle\n",
    "import matplotlib.pyplot as plt\n",
    "plt.style.use(\"seaborn\")\n",
    "\n",
    "import functions"
   ]
  },
  {
   "cell_type": "markdown",
   "metadata": {},
   "source": [
    "------------"
   ]
  },
  {
   "cell_type": "markdown",
   "metadata": {},
   "source": [
    "**Question:**\n",
    "\n",
    "## 1. Data collection\n",
    "\n",
    "\n",
    "### 1.1. Get the list of books\n",
    "\n",
    "\n",
    "* From [best books ever list](https://www.goodreads.com/list/show/1.Best_Books_Ever?page=1) we want to collect the url associated to each book in the list and retrieve only the urls of the books listed in the first 300 pages.\n",
    "\n",
    "\n",
    "\n",
    "* The output of this step is a `.txt` file whose single line corresponds to a book's url."
   ]
  },
  {
   "cell_type": "markdown",
   "metadata": {},
   "source": [
    "**Comments:**\n",
    "\n",
    "> Creating a `.txt` file using 2 `for` loops, the first one iterates through the pages (300) and the second one between each book in the chosen page (100)."
   ]
  },
  {
   "cell_type": "code",
   "execution_count": null,
   "metadata": {},
   "outputs": [],
   "source": [
    "#inizialize an empty list\n",
    "url = []\n",
    "\n",
    "#for each page, save the corresponding web page, find the anchor elements and save the corresponding tags  \n",
    "for i in range(300):\n",
    "    page = requests.get(\"https://www.goodreads.com/list/show/1.Best_Books_Ever?page=\"+ str(i + 1))\n",
    "    soup = BeautifulSoup(page.content, features='lxml')\n",
    "    tag_a = soup.find_all('a', {\"class\": \"bookTitle\"}, itemprop = \"url\")\n",
    "    \n",
    "#for each book, save the corresponding url into the array\n",
    "    for j in range(0,100):\n",
    "        url.append(\"https://www.goodreads.com\"+ tag_a[j]['href'])\n",
    "        \n",
    "#create a txt file where for each row there is a book's url \n",
    "with open(\"url.txt\", 'w') as f:\n",
    "    f.write(\"\\n\".join(map(str, url)))\n",
    "f.close()"
   ]
  },
  {
   "cell_type": "markdown",
   "metadata": {},
   "source": [
    "**Question:**\n",
    "\n",
    "### 1.2. Crawl books\n",
    "\n",
    "1. Download the html corresponding to each of the collected urls.\n",
    "\n",
    "\n",
    "2. After you collect a single page, immediatly save its `html` in a file. In this way, if your program stops, for any reason, you will not loose the data collected up to the stopping point.\n",
    "\n",
    "\n",
    "3. Organize the entire set of downloaded `html` pages into folders. Each folder will contain the `htmls` of the books in page 1, page 2, ... of the list of books."
   ]
  },
  {
   "cell_type": "markdown",
   "metadata": {},
   "source": [
    "**Comments:**\n",
    "\n",
    "> Using the `url.txt` file that we have created in the previous section, reading the lines and then close the file. We have chosen our parent directory `parent_dir` and the child directory `directory`, then have initialized 2 `for` loops to create the folders accordingly and download the files corresponded on each folder.\n",
    "\n",
    "\n",
    "* For more info (read the comments in the cell)"
   ]
  },
  {
   "cell_type": "code",
   "execution_count": null,
   "metadata": {},
   "outputs": [],
   "source": [
    "#First we open the url.txt file, reading the lines and then close the file\n",
    "f = open(\"url.txt\", \"r\")\n",
    "lines = f.readlines()\n",
    "f.close()\n",
    "\n",
    "#Setting our parent directory and the directory associated with each page number from the list\n",
    "## PLEASE CHANGE THE PARENT DIRECTORY ACCORDING TO YOUR SYSTEM\n",
    "parent_dir = \"C:/Users/ALL Materials/Data Science - Sapienza/1st Semester/ALGORITHMIC METHODS OF DATA MINING AND LABORATORY/HW3/Links\"\n",
    "directory = \"Page_\"\n",
    "page_num = 0\n",
    "\n",
    "\n",
    "#Looping for 300 times that corresponds to the number of pages\n",
    "for i in range(300):\n",
    "    #Incrementing page number according to each page\n",
    "    page_num += 1\n",
    "    #Setting the current working directory\n",
    "    directory = \"Page_\" + str(page_num)\n",
    "    #Setting the main path to create the directory\n",
    "    path = os.path.join(parent_dir, directory)\n",
    "    #Creating new directory\n",
    "    os.makedirs(path)\n",
    "    \n",
    "    #Looping for 100 times, which is the number of articles per page\n",
    "    for i in range(100):\n",
    "        #Selecting the corresponding link\n",
    "        link = lines[i][:-1]\n",
    "        #Dowloading the article\n",
    "        r = requests.get(link, allow_redirects=True)\n",
    "        #Setting the name file to keep the track\n",
    "        file_name = \"article_\" + str(i+1) + \".html\"\n",
    "        #Saving the html file to its corresponding directory\n",
    "        open(parent_dir + \"/\" + directory + \"/\" + file_name, 'wb').write(r.content)"
   ]
  },
  {
   "cell_type": "markdown",
   "metadata": {},
   "source": [
    "**Question:**\n",
    "\n",
    "#### 1.3 Parse downloaded pages\n",
    "\n",
    "At this point, you should have all the html documents about the books of interest and you can start to extract the books informations. The list of information we desire for each book are the following:\n",
    "\n",
    "1. Title (to save as `bookTitle`)\n",
    "2. Series (to save as `bookSeries`)\n",
    "3. Author(s), the first box in the picture below (to save as `bookAuthors`)\n",
    "4. Ratings, average stars (to save as `ratingValue`)\n",
    "5. Number of givent ratings (to save as `ratingCount`)\n",
    "6. Number of reviews (to save as `reviewCount`)\n",
    "7. The entire plot (to save as `Plot`)\n",
    "8. Number of pages (to save as `NumberofPages`)\n",
    "9. Published (Publishing Date)\n",
    "10. Characters\n",
    "11. Setting\n",
    "12. Url"
   ]
  },
  {
   "cell_type": "markdown",
   "metadata": {},
   "source": [
    "**Comments:**\n",
    "\n",
    "> Here we have used our custom function `info_parser()` that is available on `functions.py` file. The function takes parent directory (`parent_dir`), number of pages (`pages`) that is default to (`300`), the folder that (`.tsv`) files will be stored (`tsv_articles`), the folder to that `.html` files are stored (`links`) and the name of `.txt` file that our links are stored (`links`) as the inputs, then the function extracts books information, check them with `langdetect` from `nltk` library and creates the .tsv files in `/tsv_articles`.\n",
    "\n",
    "* For more info (read the docstrings and comments in the function)"
   ]
  },
  {
   "cell_type": "code",
   "execution_count": null,
   "metadata": {},
   "outputs": [],
   "source": [
    "## Custom function designed to \n",
    "parent_dir = \"C:/Users/ALL Materials/Data Science - Sapienza/1st Semester/ALGORITHMIC METHODS OF DATA MINING AND LABORATORY/HW3/Links\"\n",
    "\n",
    "functions.info_parser(parent_dir, pages=300, tsv_articles= \"tsv_articles\", links= \"Links\", url= 'url')"
   ]
  },
  {
   "cell_type": "markdown",
   "metadata": {},
   "source": [
    "All tsv files generated sucessfully in tsv_articles directory"
   ]
  },
  {
   "cell_type": "markdown",
   "metadata": {},
   "source": [
    "--------------"
   ]
  },
  {
   "cell_type": "markdown",
   "metadata": {},
   "source": [
    "**Question:**\n",
    "\n",
    "## 2. Search Engine\n",
    "\n",
    "Now, we want to create two different Search Engines that, given as input a query, return the books that match the query.\n",
    "\n",
    "First, you must pre-process all the information collected for each book by :\n",
    "\n",
    "\n",
    "1. Removing stopwords\n",
    "2. Removing punctuation\n",
    "3. Stemming\n",
    "4. Anything else you think it's needed\n",
    "\n",
    "\n",
    "For this purpose, you can use the [nltk](https://www.nltk.org/) library."
   ]
  },
  {
   "cell_type": "markdown",
   "metadata": {},
   "source": [
    "**Commnets:**\n",
    "> For this question, we have chosen a different approach, that is to load all the `.tsv` files into one `.csv` file. Therefore, we prevent unnecessary processes and save time. The function `create_csv()` takes parent directory `parent_dir` and `tsv_folder` and the variable `export_csv` that its default value is `True` and export the file `combined_csv.csv` into `files` directory.\n",
    "\n",
    "* For more info (read the docstrings and comments in the function)\n",
    "\n",
    "*Here we first create and read the dataframe*"
   ]
  },
  {
   "cell_type": "code",
   "execution_count": null,
   "metadata": {},
   "outputs": [],
   "source": [
    "#Creating a .csv files out of all .tsv files\n",
    "\n",
    "parent_dir = \"C:/Users/engme/OneDrive/Desktop/ALL Materials/Data Science - Sapienza/1st Semester/ALGORITHMIC METHODS OF DATA MINING AND LABORATORY/Labs/6\"\n",
    "tsv_folder = \"tsv_articles\"\n",
    "\n",
    "# The function to create .csv file\n",
    "\n",
    "df_tsv = functions.create_csv(parent_dir, tsv_folder, export_csv= False)"
   ]
  },
  {
   "cell_type": "markdown",
   "metadata": {},
   "source": [
    "> For further needs of the file, we can read it with `pd.read_csv`"
   ]
  },
  {
   "cell_type": "code",
   "execution_count": 3,
   "metadata": {},
   "outputs": [],
   "source": [
    "#Reading the created .csv file\n",
    "df_tsv = pd.read_csv(\"files/combined_csv.csv\")"
   ]
  },
  {
   "cell_type": "markdown",
   "metadata": {},
   "source": [
    "**Question:**\n",
    "\n",
    "### 2.1. Conjunctive query\n",
    "\n",
    "For the first version of the search engine, we narrow our interest on the `Plot` of each document. It means that you will evaluate queries only with respect to the book's plot.\n",
    "\n",
    "#### 2.1.1) Create your index!\n",
    "\n",
    "Before building the index,\n",
    "Create a file named `vocabulary`, in the format you prefer, that maps each word to an integer (`term_id`)."
   ]
  },
  {
   "cell_type": "markdown",
   "metadata": {},
   "source": [
    "**Comments:**\n",
    "\n",
    "> In order to create our vocabulary dictionary (`vocabulary`) , processed text documents (`processed_docs`) and first inverted index for this exercise (`inv_index1`), we have created a custom function `create_dictionary_plot()` that takes our dataframe (`df_tsv`) that we have created in previous section and `export_pickle` to whether export the `pickle` files for aforementioned dictionaries that its value is set `True` as default.\n",
    "\n",
    "* For more info (read the docstrings and comments in the function)"
   ]
  },
  {
   "cell_type": "code",
   "execution_count": null,
   "metadata": {},
   "outputs": [],
   "source": [
    "# Creating the inverted index and vocabulary dictionaries\n",
    "\n",
    "inv_index1, vocabulary, processed_docs = functions.create_dictionary_plot(df_tsv, export_pickle = True)"
   ]
  },
  {
   "cell_type": "markdown",
   "metadata": {},
   "source": [
    "> After that we can easily import our files, without much issue for further usage."
   ]
  },
  {
   "cell_type": "code",
   "execution_count": 4,
   "metadata": {},
   "outputs": [],
   "source": [
    "# Loading the saved dictionaries\n",
    "with open(\"files/dict_file\", \"rb\") as input_file:\n",
    "    inv_index1 = pickle.load(input_file)\n",
    "    input_file.close\n",
    "    \n",
    "with open(\"files/voc_file\", \"rb\") as input_file:\n",
    "    vocabulary = pickle.load(input_file)\n",
    "    input_file.close\n",
    "    \n",
    "with open(\"files/doc_file\", \"rb\") as input_file:\n",
    "    processed_docs = pickle.load(input_file)\n",
    "    input_file.close"
   ]
  },
  {
   "cell_type": "markdown",
   "metadata": {},
   "source": [
    "**Question:**\n",
    "\n",
    "#### 2.1.2) Execute the query\n",
    "\n",
    "Given a query, that you let the user enter, the Search Engine is supposed to return a list of documents.\n",
    "\n",
    "> What documents do we want?\n",
    "\n",
    "Since we are dealing with conjunctive queries (AND), each of the returned documents should contain all the words in the query. The final output of the query must return, if present, the following information for each of the selected documents:\n",
    "\n",
    "* `bookTitle`\n",
    "* `Plot`\n",
    "* `Url`\n",
    "\n",
    "<br>\n",
    "\n",
    "\n",
    "**Comments:**\n",
    "\n",
    "> For the Search Engine we have created a custom function `Search_Engine1()` that takes the user query (`query`), the dataframe of our books (`df_tsv`), the vocabulary dictionary (`vocabulary`), the first inverted index dictionary (`inv_index1`) and the number of results (`results`) that the user wants to view, and its default value is `10`.\n",
    "\n",
    "* For more info (read the docstrings and comments in the function)"
   ]
  },
  {
   "cell_type": "code",
   "execution_count": 8,
   "metadata": {},
   "outputs": [
    {
     "name": "stdout",
     "output_type": "stream",
     "text": [
      "Please Enter your query: hunger games\n"
     ]
    },
    {
     "data": {
      "text/html": [
       "<div>\n",
       "<style scoped>\n",
       "    .dataframe tbody tr th:only-of-type {\n",
       "        vertical-align: middle;\n",
       "    }\n",
       "\n",
       "    .dataframe tbody tr th {\n",
       "        vertical-align: top;\n",
       "    }\n",
       "\n",
       "    .dataframe thead th {\n",
       "        text-align: right;\n",
       "    }\n",
       "</style>\n",
       "<table border=\"1\" class=\"dataframe\">\n",
       "  <thead>\n",
       "    <tr style=\"text-align: right;\">\n",
       "      <th></th>\n",
       "      <th>bookTitle</th>\n",
       "      <th>Plot</th>\n",
       "      <th>Url</th>\n",
       "    </tr>\n",
       "  </thead>\n",
       "  <tbody>\n",
       "    <tr>\n",
       "      <th>2362</th>\n",
       "      <td>Enchantée</td>\n",
       "      <td>Paris in 1789 is a labyrinth of twisted street...</td>\n",
       "      <td>https://www.goodreads.com/book/show/6514.The_B...</td>\n",
       "    </tr>\n",
       "    <tr>\n",
       "      <th>9326</th>\n",
       "      <td>Tolomay's World and The Pool of Light</td>\n",
       "      <td>~SO MUCH MORE THAN A ROMANCE FANTASY~ If you e...</td>\n",
       "      <td>https://www.goodreads.com/book/show/41817486-a...</td>\n",
       "    </tr>\n",
       "    <tr>\n",
       "      <th>22331</th>\n",
       "      <td>The Ballad of Songbirds and Snakes</td>\n",
       "      <td>It is the morning of the reaping that will kic...</td>\n",
       "      <td>https://www.goodreads.com/book/show/149267.The...</td>\n",
       "    </tr>\n",
       "    <tr>\n",
       "      <th>14035</th>\n",
       "      <td>Fornicationn</td>\n",
       "      <td>My name is Portia and I am a hoe from a long l...</td>\n",
       "      <td>https://www.goodreads.com/book/show/2429135.Th...</td>\n",
       "    </tr>\n",
       "    <tr>\n",
       "      <th>19565</th>\n",
       "      <td>Mockingjay</td>\n",
       "      <td>The final book in the ground-breaking HUNGER G...</td>\n",
       "      <td>https://www.goodreads.com/book/show/18144590-t...</td>\n",
       "    </tr>\n",
       "    <tr>\n",
       "      <th>24318</th>\n",
       "      <td>The Maze Runner Series  (The Maze Runner #1-4)</td>\n",
       "      <td>The perfect gift for fans of \"The Hunger Games...</td>\n",
       "      <td>https://www.goodreads.com/book/show/10917.My_S...</td>\n",
       "    </tr>\n",
       "    <tr>\n",
       "      <th>13717</th>\n",
       "      <td>Best Served Cold</td>\n",
       "      <td>Springtime in Styria. And that means war. Spri...</td>\n",
       "      <td>https://www.goodreads.com/book/show/4934.The_B...</td>\n",
       "    </tr>\n",
       "    <tr>\n",
       "      <th>17990</th>\n",
       "      <td>Grotto of the Dancing Deer: And Other Stories</td>\n",
       "      <td>Collected tales of wonder, danger, and the fut...</td>\n",
       "      <td>https://www.goodreads.com/book/show/18619684-t...</td>\n",
       "    </tr>\n",
       "    <tr>\n",
       "      <th>3156</th>\n",
       "      <td>Guardian</td>\n",
       "      <td>The pulse-pounding sequel to Proxy! Inspired b...</td>\n",
       "      <td>https://www.goodreads.com/book/show/2767052-th...</td>\n",
       "    </tr>\n",
       "    <tr>\n",
       "      <th>19047</th>\n",
       "      <td>The Hunger Games Tribute Guide</td>\n",
       "      <td>The New York Times bestselling Hunger Games is...</td>\n",
       "      <td>https://www.goodreads.com/book/show/22628.The_...</td>\n",
       "    </tr>\n",
       "  </tbody>\n",
       "</table>\n",
       "</div>"
      ],
      "text/plain": [
       "                                            bookTitle  \\\n",
       "2362                                        Enchantée   \n",
       "9326            Tolomay's World and The Pool of Light   \n",
       "22331              The Ballad of Songbirds and Snakes   \n",
       "14035                                    Fornicationn   \n",
       "19565                                      Mockingjay   \n",
       "24318  The Maze Runner Series  (The Maze Runner #1-4)   \n",
       "13717                                Best Served Cold   \n",
       "17990   Grotto of the Dancing Deer: And Other Stories   \n",
       "3156                                         Guardian   \n",
       "19047                  The Hunger Games Tribute Guide   \n",
       "\n",
       "                                                    Plot  \\\n",
       "2362   Paris in 1789 is a labyrinth of twisted street...   \n",
       "9326   ~SO MUCH MORE THAN A ROMANCE FANTASY~ If you e...   \n",
       "22331  It is the morning of the reaping that will kic...   \n",
       "14035  My name is Portia and I am a hoe from a long l...   \n",
       "19565  The final book in the ground-breaking HUNGER G...   \n",
       "24318  The perfect gift for fans of \"The Hunger Games...   \n",
       "13717  Springtime in Styria. And that means war. Spri...   \n",
       "17990  Collected tales of wonder, danger, and the fut...   \n",
       "3156   The pulse-pounding sequel to Proxy! Inspired b...   \n",
       "19047  The New York Times bestselling Hunger Games is...   \n",
       "\n",
       "                                                     Url  \n",
       "2362   https://www.goodreads.com/book/show/6514.The_B...  \n",
       "9326   https://www.goodreads.com/book/show/41817486-a...  \n",
       "22331  https://www.goodreads.com/book/show/149267.The...  \n",
       "14035  https://www.goodreads.com/book/show/2429135.Th...  \n",
       "19565  https://www.goodreads.com/book/show/18144590-t...  \n",
       "24318  https://www.goodreads.com/book/show/10917.My_S...  \n",
       "13717  https://www.goodreads.com/book/show/4934.The_B...  \n",
       "17990  https://www.goodreads.com/book/show/18619684-t...  \n",
       "3156   https://www.goodreads.com/book/show/2767052-th...  \n",
       "19047  https://www.goodreads.com/book/show/22628.The_...  "
      ]
     },
     "execution_count": 8,
     "metadata": {},
     "output_type": "execute_result"
    }
   ],
   "source": [
    "query = input(\"Please Enter your query: \")\n",
    "functions.Search_Engine1(query, df_tsv, vocabulary, inv_index1, results= 10)"
   ]
  },
  {
   "cell_type": "markdown",
   "metadata": {},
   "source": [
    "**Question:**\n",
    "\n",
    "### 2.2) Conjunctive query & Ranking score\n",
    "\n",
    "For the second search engine, given a query, we want to get the top-k (the choice of k it's up to you!) documents related to the query. In particular:\n",
    "\n",
    "* Find all the documents that contains all the words in the query.\n",
    "* Sort them by their similarity with the query\n",
    "* Return in output k documents, or all the documents with non-zero similarity with the query when the results are less than k. You must use a heap data structure (you can use Python libraries) for maintaining the top-k documents.\n",
    "\n",
    "To solve this task, you will have to use the tfIdf score, and the Cosine similarity. The fielf to consider it is still the plot. Let's see how.\n",
    "\n",
    "**2.2.1) Inverted index**\n",
    "\n",
    "Your second Inverted Index must be of this format:\n",
    "\n",
    "`{\n",
    "term_id_1:[(document1, tfIdf_{term,document1}), (document2, tfIdf_{term,document2}), (document4, tfIdf_{term,document4}), ...],\n",
    "term_id_2:[(document1, tfIdf_{term,document1}), (document3, tfIdf_{term,document3}), (document5, tfIdf_{term,document5}), (document6, tfIdf_{term,document6}), ...],\n",
    "...}`\n",
    "\n",
    "Practically, for each word you want the list of documents in which it is contained in, and the relative `tfIdf` score.\n",
    "\n",
    "Tip: `tfIdf` values are invariant with respect to the query, for this reason you can precalculate them.\n"
   ]
  },
  {
   "cell_type": "markdown",
   "metadata": {},
   "source": [
    "**Comments:**\n",
    "\n",
    "> In order to generate the the second inverted index dictionary (`inv_index2`), we have created a custom function `create_invert_index2()` that takes the number of entries in our dataframe (`len(df_tsv)`), the first inverted index dictionary (`inv_index1`) and `export_pickle` to whether export the `pickle` file that its default value is set to `True`.\n",
    "\n",
    "\n",
    "> For creating the Cosine Similarity dictionary we have another function named `create_similarity_dictionary` that takes the second inverted index dictionary (`inv_index2`) that we have created in the previous function, plus `export_pickle` to whether export the `pickle` file that its default value is set to `True`.\n",
    "\n",
    "* For more info (read the docstrings and comments in the function)"
   ]
  },
  {
   "cell_type": "code",
   "execution_count": null,
   "metadata": {},
   "outputs": [],
   "source": [
    "inv_index2 = functions.create_invert_index2(len(df_tsv), inv_index1, processed_docs, export_pickle = True)\n",
    "\n",
    "dictSimilarity = functions.create_similarity_dictionary(inv_index2, export_pickle = True)"
   ]
  },
  {
   "cell_type": "markdown",
   "metadata": {},
   "source": [
    "> Now we can import our file for further usage without an issue."
   ]
  },
  {
   "cell_type": "code",
   "execution_count": 6,
   "metadata": {},
   "outputs": [],
   "source": [
    "with open(\"files/dictsim_file\", \"rb\") as input_file:\n",
    "    dictSimilarity = pickle.load(input_file)\n",
    "    input_file.close\n",
    "\n",
    "with open(\"files/inv2_file\", \"rb\") as input_file:\n",
    "    inv_index2 = pickle.load(input_file)\n",
    "    input_file.close"
   ]
  },
  {
   "cell_type": "markdown",
   "metadata": {},
   "source": [
    "**Question:**\n",
    "\n",
    "**2.2.2) Execute the query**\n",
    "\n",
    "In this new setting, given a query you get the right set of documents (i.e., those containing all the words in the query) and sort them according to their similairty to the query. For this purpose, as scoring function we will use the Cosine Similarity with respect to the tfIdf representations of the documents.\n",
    "\n",
    "The search engine is supposed to return a list of documents, ranked by their Cosine Similarity with respect to the query entered in input.\n",
    "\n",
    ">More precisely, the output must contain:\n",
    "\n",
    "* `bookTitle`\n",
    "* `Plot`\n",
    "* `Url`\n",
    "* The similarity score of the documents with respect to the query\n",
    "\n",
    "<br>\n",
    "\n",
    "**Comments:**\n",
    "\n",
    "> For the second Search Engine, we have created a custom function (`Search_Engine2()`) to search through the `Plots` of the book and scoring function we will use the Cosine Similarity with respect to the tfIdf representations of the documents. The function takes the user's query (`query`), the dataframe of books (`df_tsv`), the first inverted index dictionary (`inv_index1`), the second inverted index dictionary (`inv_index2`), the similarity dictionary (`dictSimilarity`), vocabulary dictionary (`vocabulary`) and the number of results (`results` Default set to `10`) as inputs and search for the best matches according to Cosine Similarity, normalized and sort the findings based on the score.\n",
    "\n",
    "\n",
    "* For more info (read the docstrings and comments in the function)\n",
    "\n",
    "> Here we try the same query as before"
   ]
  },
  {
   "cell_type": "code",
   "execution_count": 9,
   "metadata": {},
   "outputs": [
    {
     "name": "stdout",
     "output_type": "stream",
     "text": [
      "Enter your query: hunger games\n"
     ]
    },
    {
     "data": {
      "text/html": [
       "<div>\n",
       "<style scoped>\n",
       "    .dataframe tbody tr th:only-of-type {\n",
       "        vertical-align: middle;\n",
       "    }\n",
       "\n",
       "    .dataframe tbody tr th {\n",
       "        vertical-align: top;\n",
       "    }\n",
       "\n",
       "    .dataframe thead th {\n",
       "        text-align: right;\n",
       "    }\n",
       "</style>\n",
       "<table border=\"1\" class=\"dataframe\">\n",
       "  <thead>\n",
       "    <tr style=\"text-align: right;\">\n",
       "      <th></th>\n",
       "      <th>bookTitle</th>\n",
       "      <th>Plot</th>\n",
       "      <th>Url</th>\n",
       "      <th>Similarity</th>\n",
       "    </tr>\n",
       "  </thead>\n",
       "  <tbody>\n",
       "    <tr>\n",
       "      <th>19047</th>\n",
       "      <td>The Hunger Games Tribute Guide</td>\n",
       "      <td>The New York Times bestselling Hunger Games is...</td>\n",
       "      <td>https://www.goodreads.com/book/show/22628.The_...</td>\n",
       "      <td>1.00</td>\n",
       "    </tr>\n",
       "    <tr>\n",
       "      <th>8747</th>\n",
       "      <td>The Hunger Games Trilogy Boxset</td>\n",
       "      <td>The extraordinary, ground breaking New York Ti...</td>\n",
       "      <td>https://www.goodreads.com/book/show/252577.Ang...</td>\n",
       "      <td>0.62</td>\n",
       "    </tr>\n",
       "    <tr>\n",
       "      <th>19565</th>\n",
       "      <td>Mockingjay</td>\n",
       "      <td>The final book in the ground-breaking HUNGER G...</td>\n",
       "      <td>https://www.goodreads.com/book/show/18144590-t...</td>\n",
       "      <td>0.53</td>\n",
       "    </tr>\n",
       "    <tr>\n",
       "      <th>2339</th>\n",
       "      <td>Throne of Glass Collection</td>\n",
       "      <td>Perfect for the Fans of Hunger Games, Game Of ...</td>\n",
       "      <td>https://www.goodreads.com/book/show/231804.The...</td>\n",
       "      <td>0.37</td>\n",
       "    </tr>\n",
       "    <tr>\n",
       "      <th>21715</th>\n",
       "      <td>SAMPLER ONLY: Catching Fire (The Hunger Games,...</td>\n",
       "      <td>Against all odds, Katniss Everdeen has won the...</td>\n",
       "      <td>https://www.goodreads.com/book/show/6288.The_Road</td>\n",
       "      <td>0.36</td>\n",
       "    </tr>\n",
       "    <tr>\n",
       "      <th>21151</th>\n",
       "      <td>The Hunger Games: Official Illustrated Movie C...</td>\n",
       "      <td>Go behind the scenes of the making of The Hung...</td>\n",
       "      <td>https://www.goodreads.com/book/show/231804.The...</td>\n",
       "      <td>0.36</td>\n",
       "    </tr>\n",
       "    <tr>\n",
       "      <th>0</th>\n",
       "      <td>The Hunger Games</td>\n",
       "      <td>Could you survive on your own in the wild, wit...</td>\n",
       "      <td>https://www.goodreads.com/book/show/2767052-th...</td>\n",
       "      <td>0.26</td>\n",
       "    </tr>\n",
       "    <tr>\n",
       "      <th>22331</th>\n",
       "      <td>The Ballad of Songbirds and Snakes</td>\n",
       "      <td>It is the morning of the reaping that will kic...</td>\n",
       "      <td>https://www.goodreads.com/book/show/149267.The...</td>\n",
       "      <td>0.26</td>\n",
       "    </tr>\n",
       "    <tr>\n",
       "      <th>24318</th>\n",
       "      <td>The Maze Runner Series  (The Maze Runner #1-4)</td>\n",
       "      <td>The perfect gift for fans of \"The Hunger Games...</td>\n",
       "      <td>https://www.goodreads.com/book/show/10917.My_S...</td>\n",
       "      <td>0.26</td>\n",
       "    </tr>\n",
       "    <tr>\n",
       "      <th>16630</th>\n",
       "      <td>The Dust Lands Trilogy: Blood Red Road; Rebel ...</td>\n",
       "      <td>All three books in the highly praised Dust Lan...</td>\n",
       "      <td>https://www.goodreads.com/book/show/12232938-t...</td>\n",
       "      <td>0.26</td>\n",
       "    </tr>\n",
       "  </tbody>\n",
       "</table>\n",
       "</div>"
      ],
      "text/plain": [
       "                                               bookTitle  \\\n",
       "19047                     The Hunger Games Tribute Guide   \n",
       "8747                     The Hunger Games Trilogy Boxset   \n",
       "19565                                         Mockingjay   \n",
       "2339                          Throne of Glass Collection   \n",
       "21715  SAMPLER ONLY: Catching Fire (The Hunger Games,...   \n",
       "21151  The Hunger Games: Official Illustrated Movie C...   \n",
       "0                                       The Hunger Games   \n",
       "22331                 The Ballad of Songbirds and Snakes   \n",
       "24318     The Maze Runner Series  (The Maze Runner #1-4)   \n",
       "16630  The Dust Lands Trilogy: Blood Red Road; Rebel ...   \n",
       "\n",
       "                                                    Plot  \\\n",
       "19047  The New York Times bestselling Hunger Games is...   \n",
       "8747   The extraordinary, ground breaking New York Ti...   \n",
       "19565  The final book in the ground-breaking HUNGER G...   \n",
       "2339   Perfect for the Fans of Hunger Games, Game Of ...   \n",
       "21715  Against all odds, Katniss Everdeen has won the...   \n",
       "21151  Go behind the scenes of the making of The Hung...   \n",
       "0      Could you survive on your own in the wild, wit...   \n",
       "22331  It is the morning of the reaping that will kic...   \n",
       "24318  The perfect gift for fans of \"The Hunger Games...   \n",
       "16630  All three books in the highly praised Dust Lan...   \n",
       "\n",
       "                                                     Url  Similarity  \n",
       "19047  https://www.goodreads.com/book/show/22628.The_...        1.00  \n",
       "8747   https://www.goodreads.com/book/show/252577.Ang...        0.62  \n",
       "19565  https://www.goodreads.com/book/show/18144590-t...        0.53  \n",
       "2339   https://www.goodreads.com/book/show/231804.The...        0.37  \n",
       "21715  https://www.goodreads.com/book/show/6288.The_Road        0.36  \n",
       "21151  https://www.goodreads.com/book/show/231804.The...        0.36  \n",
       "0      https://www.goodreads.com/book/show/2767052-th...        0.26  \n",
       "22331  https://www.goodreads.com/book/show/149267.The...        0.26  \n",
       "24318  https://www.goodreads.com/book/show/10917.My_S...        0.26  \n",
       "16630  https://www.goodreads.com/book/show/12232938-t...        0.26  "
      ]
     },
     "execution_count": 9,
     "metadata": {},
     "output_type": "execute_result"
    }
   ],
   "source": [
    "query = input(\"Enter your query: \")\n",
    "functions.Search_Engine2(query, df_tsv, inv_index1, inv_index2, dictSimilarity, vocabulary, results= 10)"
   ]
  },
  {
   "cell_type": "markdown",
   "metadata": {},
   "source": [
    "--------------------"
   ]
  },
  {
   "cell_type": "markdown",
   "metadata": {},
   "source": [
    "**Question:**\n",
    "\n",
    "## 3. Define a new score!\n",
    "\n",
    "Now it's your turn. Build a new metric to rank books based on the queries of their users.\n",
    "\n",
    "In this scenario, a single user can give in input more information than the single textual query, so you need to take into account all this information, and think a creative and logical way on how to answer at user's requests.\n",
    "\n",
    "Practically:\n",
    "\n",
    "The user will enter you a text query. As a starting point, get the query-related documents by exploiting the search engine of Step 3.1.\n",
    "\n",
    "Once you have the documents, you need to sort them according to your new score. In this step you won't have anymore to take into account just the `plot` of the documents, you **must** use the remaining variables in your dataset (or new possible variables that you can create from the existing ones...). You **must** use a heap data structure (you can use Python libraries) for maintaining the *top-k* documents.\n",
    "\n",
    ">Q: How to sort them? A: Allow the user to specify more information, that you find in the documents, and define a new metric that ranks the results based on the new request.\n",
    "\n",
    "**N.B.**: You have to define a **scoring function**, not a filter!\n",
    "\n",
    "\n",
    "The output, must contain:\n",
    "\n",
    "* `bookTitle`\n",
    "* `Plot`\n",
    "* `Url`\n",
    "* The similarity score of the documents with respect to the query"
   ]
  },
  {
   "cell_type": "markdown",
   "metadata": {},
   "source": [
    "**Comments:**\n",
    "\n",
    "> For the new Search Engine, we have created a custom function `` that takes the user's query (`query`), the dataframe of books (`df_tsv`), the first inverted index dictionary (`inv_index1`), the second inverted index dictionary (`inv_index2`), vocabulary dictionary (`vocabulary`) and the number of results (`results` Default set to `10`) as inputs, and to return the set of books based on new scoring function by asking about more information about the books from the user, we have used number of pages `NumberofPages` as one scoring method, and we have created a new feature that is the year of publication from `Published` column. The results are sorted based on `Similarity` that has been defined using the new scoring function.\n",
    "\n",
    "\n",
    "* For more info (read the docstrings and comments in the function)\n",
    "\n",
    "> Here we try the same query as before"
   ]
  },
  {
   "cell_type": "code",
   "execution_count": 11,
   "metadata": {},
   "outputs": [
    {
     "name": "stdout",
     "output_type": "stream",
     "text": [
      "Enter your query: hunger games\n",
      "Do you want to use our new scoring method? [Y/N] :Yes\n",
      "How many pages does your desired book have? (approximately) ->370\n",
      "What year does the book published? (approximately) ->2008\n"
     ]
    },
    {
     "data": {
      "text/html": [
       "<div>\n",
       "<style scoped>\n",
       "    .dataframe tbody tr th:only-of-type {\n",
       "        vertical-align: middle;\n",
       "    }\n",
       "\n",
       "    .dataframe tbody tr th {\n",
       "        vertical-align: top;\n",
       "    }\n",
       "\n",
       "    .dataframe thead th {\n",
       "        text-align: right;\n",
       "    }\n",
       "</style>\n",
       "<table border=\"1\" class=\"dataframe\">\n",
       "  <thead>\n",
       "    <tr style=\"text-align: right;\">\n",
       "      <th></th>\n",
       "      <th>bookTitle</th>\n",
       "      <th>Plot</th>\n",
       "      <th>Url</th>\n",
       "      <th>Similarity</th>\n",
       "    </tr>\n",
       "    <tr>\n",
       "      <th>book_index</th>\n",
       "      <th></th>\n",
       "      <th></th>\n",
       "      <th></th>\n",
       "      <th></th>\n",
       "    </tr>\n",
       "  </thead>\n",
       "  <tbody>\n",
       "    <tr>\n",
       "      <th>0</th>\n",
       "      <td>The Hunger Games</td>\n",
       "      <td>Could you survive on your own in the wild, wit...</td>\n",
       "      <td>https://www.goodreads.com/book/show/2767052-th...</td>\n",
       "      <td>1.00</td>\n",
       "    </tr>\n",
       "    <tr>\n",
       "      <th>12312</th>\n",
       "      <td>Catching Fire</td>\n",
       "      <td>SPARKS ARE IGNITING.&lt;br/&gt;FLAMES ARE SPREADING....</td>\n",
       "      <td>https://www.goodreads.com/book/show/7624.Lord_...</td>\n",
       "      <td>0.95</td>\n",
       "    </tr>\n",
       "    <tr>\n",
       "      <th>19565</th>\n",
       "      <td>Mockingjay</td>\n",
       "      <td>The final book in the ground-breaking HUNGER G...</td>\n",
       "      <td>https://www.goodreads.com/book/show/18144590-t...</td>\n",
       "      <td>0.91</td>\n",
       "    </tr>\n",
       "    <tr>\n",
       "      <th>15722</th>\n",
       "      <td>Cheating on My Mistress</td>\n",
       "      <td>Carmelo Miller is a retired NBA player who has...</td>\n",
       "      <td>https://www.goodreads.com/book/show/17245.Dracula</td>\n",
       "      <td>0.89</td>\n",
       "    </tr>\n",
       "    <tr>\n",
       "      <th>13717</th>\n",
       "      <td>Best Served Cold</td>\n",
       "      <td>Springtime in Styria. And that means war. Spri...</td>\n",
       "      <td>https://www.goodreads.com/book/show/4934.The_B...</td>\n",
       "      <td>0.89</td>\n",
       "    </tr>\n",
       "    <tr>\n",
       "      <th>23047</th>\n",
       "      <td>Gregor and the Prophecy of Bane</td>\n",
       "      <td>The action and adventure continue for Gregor i...</td>\n",
       "      <td>https://www.goodreads.com/book/show/2998.The_S...</td>\n",
       "      <td>0.85</td>\n",
       "    </tr>\n",
       "    <tr>\n",
       "      <th>1084</th>\n",
       "      <td>Glow</td>\n",
       "      <td>One of  School Library Journal ’s Best Fictio...</td>\n",
       "      <td>https://www.goodreads.com/book/show/10210.Jane...</td>\n",
       "      <td>0.85</td>\n",
       "    </tr>\n",
       "    <tr>\n",
       "      <th>4995</th>\n",
       "      <td>Sliding on the Snow Stone</td>\n",
       "      <td>It is astonishing that anyone lived this story...</td>\n",
       "      <td>https://www.goodreads.com/book/show/2165.The_O...</td>\n",
       "      <td>0.82</td>\n",
       "    </tr>\n",
       "    <tr>\n",
       "      <th>3719</th>\n",
       "      <td>Crossing the Seas: A Diary of My Thoughts</td>\n",
       "      <td>About the book (A teaser) \"Crossing the Seas: ...</td>\n",
       "      <td>https://www.goodreads.com/book/show/76620.Wate...</td>\n",
       "      <td>0.82</td>\n",
       "    </tr>\n",
       "    <tr>\n",
       "      <th>23228</th>\n",
       "      <td>Mystic City</td>\n",
       "      <td>For fans of  Matched, The Hunger Games, X-Men,...</td>\n",
       "      <td>https://www.goodreads.com/book/show/18405.Gone...</td>\n",
       "      <td>0.82</td>\n",
       "    </tr>\n",
       "  </tbody>\n",
       "</table>\n",
       "</div>"
      ],
      "text/plain": [
       "                                            bookTitle  \\\n",
       "book_index                                              \n",
       "0                                    The Hunger Games   \n",
       "12312                                   Catching Fire   \n",
       "19565                                      Mockingjay   \n",
       "15722                         Cheating on My Mistress   \n",
       "13717                                Best Served Cold   \n",
       "23047                 Gregor and the Prophecy of Bane   \n",
       "1084                                             Glow   \n",
       "4995                        Sliding on the Snow Stone   \n",
       "3719        Crossing the Seas: A Diary of My Thoughts   \n",
       "23228                                     Mystic City   \n",
       "\n",
       "                                                         Plot  \\\n",
       "book_index                                                      \n",
       "0           Could you survive on your own in the wild, wit...   \n",
       "12312       SPARKS ARE IGNITING.<br/>FLAMES ARE SPREADING....   \n",
       "19565       The final book in the ground-breaking HUNGER G...   \n",
       "15722       Carmelo Miller is a retired NBA player who has...   \n",
       "13717       Springtime in Styria. And that means war. Spri...   \n",
       "23047       The action and adventure continue for Gregor i...   \n",
       "1084         One of  School Library Journal ’s Best Fictio...   \n",
       "4995        It is astonishing that anyone lived this story...   \n",
       "3719        About the book (A teaser) \"Crossing the Seas: ...   \n",
       "23228       For fans of  Matched, The Hunger Games, X-Men,...   \n",
       "\n",
       "                                                          Url  Similarity  \n",
       "book_index                                                                 \n",
       "0           https://www.goodreads.com/book/show/2767052-th...        1.00  \n",
       "12312       https://www.goodreads.com/book/show/7624.Lord_...        0.95  \n",
       "19565       https://www.goodreads.com/book/show/18144590-t...        0.91  \n",
       "15722       https://www.goodreads.com/book/show/17245.Dracula        0.89  \n",
       "13717       https://www.goodreads.com/book/show/4934.The_B...        0.89  \n",
       "23047       https://www.goodreads.com/book/show/2998.The_S...        0.85  \n",
       "1084        https://www.goodreads.com/book/show/10210.Jane...        0.85  \n",
       "4995        https://www.goodreads.com/book/show/2165.The_O...        0.82  \n",
       "3719        https://www.goodreads.com/book/show/76620.Wate...        0.82  \n",
       "23228       https://www.goodreads.com/book/show/18405.Gone...        0.82  "
      ]
     },
     "execution_count": 11,
     "metadata": {},
     "output_type": "execute_result"
    }
   ],
   "source": [
    "query = input(\"Enter your query: \")\n",
    "functions.Search_Engine_NewScore(query, df_tsv, inv_index1, inv_index2, vocabulary, results= 10)"
   ]
  },
  {
   "cell_type": "markdown",
   "metadata": {},
   "source": [
    "------------"
   ]
  },
  {
   "cell_type": "markdown",
   "metadata": {},
   "source": [
    "**Question:**\n",
    "\n",
    "## 4. Make a nice visualization!\n",
    "\n",
    "Our goal is to quantify and visualize the writers' production.\n",
    "\n",
    "1. Consider the first 10 BookSeries in order of appearance.\n",
    "2. Build a 2-d plot where the x-axis is the years since publication of the first book (starting from 0), and y-axis there must be the cumulative series page count (all the Series start from (0,num_pages) point, which represents the first book). Since we want the cumulative number of page, the y-axis value of each book is added to the previous point.\n",
    "\n",
    "\n",
    "<br>\n",
    "\n",
    "\n",
    "**Comments:**\n",
    "\n",
    "> Because we want to use with `bookSeries`, `Published` and `NumberofPages` we will drop the `NaN` values according to these columns and reset our indexes for better iteration.\n",
    "We extract the number of pages and year of publication from `NumberofPages` and `Published`, respectively. Adding the new columns to our dataframe `Year` and `Pages`. Considering the list first 10 book series in our dataframe, and extract their information based on what we need to visualization and create our dictionary `tempDict`, which its keys are the book series (e.g. `The Hunger Games`, `From \"A Journal of Love\"`, etc.) and its values are a list of lists that their values are `index`, `bookTitle`, `Pages` and `Year`. Example : `[0, 'The Hunger Games #1', 374, 2008]`\n",
    "\n",
    "<br>\n",
    "\n",
    ">Here let's take a look at the dictionary:"
   ]
  },
  {
   "cell_type": "code",
   "execution_count": 12,
   "metadata": {},
   "outputs": [
    {
     "data": {
      "text/plain": [
       "{'The Hunger Games': [[0, 'The Hunger Games #1', 374, 2008],\n",
       "  [5448, 'The Hunger Games #2', 391, 2009],\n",
       "  [8376, 'The Hunger Games #3', 390, 2010],\n",
       "  [9871, 'The Hunger Games #0', 439, 2020]],\n",
       " 'From \"A Journal of Love\"': [[1, 'From \"A Journal of Love\" #1', 304, 1990]],\n",
       " 'Ramona Quimby': [[2, 'Ramona Quimby #4', 160, 2000],\n",
       "  [264, 'Ramona Quimby #3', 160, 2000],\n",
       "  [3397, 'Ramona Quimby #7', 150, 1996],\n",
       "  [3525, 'Ramona Quimby #1', 160, 2000],\n",
       "  [10908, 'Ramona Quimby #2', 192, 2000],\n",
       "  [11854, 'Ramona Quimby #6', 190, 1982]],\n",
       " 'Great Plains Trilogy': [[3, 'Great Plains Trilogy #2', 417, 1983],\n",
       "  [2992, 'Great Plains Trilogy #1', 159, 1992],\n",
       "  [6716, 'Great Plains Trilogy #3', 314, 2009],\n",
       "  [8789, 'Great Plains Trilogy #3', 232, 2000]],\n",
       " 'Jaded': [[4, 'Jaded #1', 293, 2011], [1998, 'Jaded #2', 264, 2013]],\n",
       " 'The Traitor Son Cycle': [[5, 'The Traitor Son Cycle #1', 650, 2012]],\n",
       " 'The Secret Life of Amy Bensen': [[6,\n",
       "   'The Secret Life of Amy Bensen #1',\n",
       "   250,\n",
       "   2013],\n",
       "  [5335, 'The Secret Life of Amy Bensen #3', 384, 2015],\n",
       "  [5464, 'The Secret Life of Amy Bensen #2', 218, 2013]],\n",
       " 'Lightbringer': [[7, 'Lightbringer #3', 846, 2014],\n",
       "  [1552, 'Lightbringer #4', 704, 2016],\n",
       "  [4811, 'Lightbringer #1', 629, 2010],\n",
       "  [7700, 'Lightbringer #2', 671, 2012]],\n",
       " 'The Cloak Society': [[8, 'The Cloak Society #2', 320, 2013],\n",
       "  [2473, 'The Cloak Society #1', 288, 2012],\n",
       "  [3178, 'The Cloak Society #3', 320, 2014]],\n",
       " 'The Henry Family': [[9, 'The Henry Family #1', 896, 2002],\n",
       "  [2079, 'The Henry Family #2', 1042, 2002]]}"
      ]
     },
     "execution_count": 12,
     "metadata": {},
     "output_type": "execute_result"
    }
   ],
   "source": [
    "df_tsv.dropna(subset=['bookSeries', 'Published', 'NumberofPages'], inplace = True)\n",
    "df_tsv.reset_index(drop = True, inplace=True)\n",
    "\n",
    "intYear = []\n",
    "numPages = []\n",
    "for i in range(len(df_tsv)):\n",
    "    year = int(re.findall(r'\\d\\d\\d\\d', df_tsv[\"Published\"][i])[0])\n",
    "    intYear.append(year)\n",
    "    num = int(re.findall(r'\\d+', df_tsv[\"NumberofPages\"][i])[0])\n",
    "    numPages.append(num)\n",
    "\n",
    "df_tsv[\"Year\"] = intYear\n",
    "df_tsv[\"Pages\"] = numPages\n",
    "\n",
    "bookSeriesList = []\n",
    "for i in range(10):\n",
    "    bookS = df_tsv[\"bookSeries\"][i][:-3]\n",
    "    bookSeriesList.append(bookS)\n",
    "\n",
    "tempDict = {}\n",
    "mainList = []\n",
    "bookList = []\n",
    "\n",
    "for i in range(len(bookSeriesList)):\n",
    "    for j in range(len(df_tsv)):\n",
    "        for k in range(10):\n",
    "            mybook = bookSeriesList[i] + \" #\" + str(k)\n",
    "            dfbook = df_tsv[\"bookSeries\"][j]\n",
    "            if mybook == dfbook:\n",
    "                bookList.append(j)\n",
    "                bookList.append(mybook)\n",
    "                bookList.append(df_tsv[\"Pages\"][j])\n",
    "                bookList.append(df_tsv[\"Year\"][j])\n",
    "                mainList.append(bookList)\n",
    "                bookList = []\n",
    "                \n",
    "    tempDict[bookSeriesList[i]] = mainList\n",
    "    mainList = []\n",
    "\n",
    "\n",
    "tempDict"
   ]
  },
  {
   "cell_type": "markdown",
   "metadata": {},
   "source": [
    "**Comments:**\n",
    "\n",
    "> After that, we will create the dictionary that we need (`cumulativeBooks`) that its keys are `Years` and the values are `Pages`. The first step is to sort the dictionary and add the values accordingly to create the cumulative number of pages based on years of publication.\n",
    "\n",
    "* Let's take a look at our dictionary `sortedCumulativeBooks`"
   ]
  },
  {
   "cell_type": "code",
   "execution_count": 13,
   "metadata": {},
   "outputs": [
    {
     "data": {
      "text/plain": [
       "{1982: 190,\n",
       " 1983: 607,\n",
       " 1990: 911,\n",
       " 1992: 1070,\n",
       " 1996: 1220,\n",
       " 2000: 2124,\n",
       " 2002: 4062,\n",
       " 2008: 4436,\n",
       " 2009: 5141,\n",
       " 2010: 6160,\n",
       " 2011: 6453,\n",
       " 2012: 8062,\n",
       " 2013: 9114,\n",
       " 2014: 10280,\n",
       " 2015: 10664,\n",
       " 2016: 11368,\n",
       " 2020: 11807}"
      ]
     },
     "execution_count": 13,
     "metadata": {},
     "output_type": "execute_result"
    }
   ],
   "source": [
    "cumulativeBooks = {}\n",
    "for i in tempDict:\n",
    "    for j in tempDict[i]:\n",
    "        if j[3] not in cumulativeBooks:\n",
    "            cumulativeBooks[j[3]] = j[2]\n",
    "        else:\n",
    "            temp = cumulativeBooks[j[3]]\n",
    "            temp += j[2]\n",
    "            cumulativeBooks[j[3]] = temp\n",
    "sortedCumulativeBooks = {}\n",
    "\n",
    "for key in sorted(cumulativeBooks):\n",
    "    sortedCumulativeBooks[key] = cumulativeBooks[key]\n",
    "\n",
    "pag = 0\n",
    "for key in sortedCumulativeBooks:\n",
    "    pag += sortedCumulativeBooks[key]\n",
    "    sortedCumulativeBooks[key] = pag\n",
    "\n",
    "\n",
    "sortedCumulativeBooks"
   ]
  },
  {
   "cell_type": "markdown",
   "metadata": {},
   "source": [
    "> In the last stage we have visualized our dictionary :"
   ]
  },
  {
   "cell_type": "code",
   "execution_count": 14,
   "metadata": {},
   "outputs": [
    {
     "data": {
      "image/png": "[encoded data removed]",
      "text/plain": [
       "<Figure size 720x504 with 1 Axes>"
      ]
     },
     "metadata": {},
     "output_type": "display_data"
    }
   ],
   "source": [
    "plt.figure(figsize = (10,7))\n",
    "plt.plot(sortedCumulativeBooks.keys(), sortedCumulativeBooks.values())\n",
    "plt.title(\"Cumulative Top 10 Series Page Count\", fontsize = 15);\n",
    "plt.xlabel(\"Years\")\n",
    "plt.ylabel(\"Cumulative Number of Pages\")\n",
    "plt.xticks(ticks=np.arange(1982,2022, 2))\n",
    "plt.yticks(ticks=np.arange(0,13000, 1000))\n",
    "plt.show();"
   ]
  },
  {
   "cell_type": "markdown",
   "metadata": {},
   "source": [
    "------------"
   ]
  },
  {
   "cell_type": "markdown",
   "metadata": {},
   "source": [
    "**Question:**\n",
    "\n",
    "## 5. Algorithmic Question\n",
    "\n",
    "You are given a string written in english capital letters, for example S=\"CADFECEILGJHABNOPSTIRYOEABILCNR.\" You are asked to find the maximum length of a subsequence of characters that is in alfabetical order. For example, here a subsequence of characters in alphabetical order is the \"ACEGJSTY\": \"C**A**DFE**CE**IL**GJ**HABNOFP**ST**IR**Y**OEABILCNR.\" Among all the possible such sequences, you are asked to find the one that is the longest.\n",
    "\n",
    "Define as X[i] = \"the length of the longest sequence of characters in alphabetical order that terminates at the i-th character\". One can prove that:\n",
    "\n",
    "`X[i] = 1 + max{X[j]; j = 0, ..., i-1, such that S[j]<S[i]}`\n",
    "\n",
    "`X[i] = 1, if there does not exist such a j.`"
   ]
  },
  {
   "cell_type": "markdown",
   "metadata": {},
   "source": [
    "1. Write a recursive program that, given a string, computes the length of the subsequence of maximum length that is in alphabetical order. Try some examples. Are the examples of short strings correct? Can you find examples that your algorithm does not terminate in reasonable time?"
   ]
  },
  {
   "cell_type": "code",
   "execution_count": 8,
   "metadata": {},
   "outputs": [
    {
     "name": "stdout",
     "output_type": "stream",
     "text": [
      "Length of sequence is  5\n"
     ]
    }
   ],
   "source": [
    "#String_input = \"CADFECEILGJHABNOFPSTIRYOEABILCNR\"\n",
    "String_input = \"CADFECEILGJ\"\n",
    "\n",
    "\n",
    "# global variable to store the maximum \n",
    "  \n",
    "def recur(string_input , n ): \n",
    "  \n",
    "    #to read and write a global variable inside a function.\n",
    "    global max_val \n",
    "   # print(\"in nuumber length\", n)\n",
    "   # print(\"in string_input\", string_input)\n",
    "  #  print(\"************************************\")\n",
    "  \n",
    "    # if length of array is 1 \n",
    "    if n == 1 : \n",
    "        return 1\n",
    "  \n",
    "    # max_ is the length of longest sequence. \n",
    "    max_ = 1\n",
    "  \n",
    "    #Recursive loop\n",
    "    for i in range(1, n): \n",
    "        result = recur(string_input , i)\n",
    "       # print(\"ress\",result)\n",
    "        #print(\"n in for loop after res\",n)\n",
    "       # print(\"************************************\")\n",
    "              \n",
    "        if string_input[i-1] < string_input[n-1] and result+1 > max_: \n",
    "            max_ = result +1\n",
    "        #    print(\"if condition match\",max_)\n",
    "        #    print(\"************************************\")\n",
    "        #print(\"max_ after adding 1\",max_)\n",
    "  \n",
    "    # Compare max_ with overall maximum. And update the overall maximum if needed \n",
    "    max_val = max(max_val , max_) \n",
    "    #print(\"max_\",maximum)\n",
    "  \n",
    "    return max_ \n",
    "  \n",
    "def recur_call(string_input): \n",
    "  \n",
    "    # to allow the access of global variable \n",
    "    global max_val \n",
    "  \n",
    "    # lenght of arr \n",
    "    len_n = len(string_input) \n",
    "  \n",
    "    # maximum variable holds the result \n",
    "    max_val = 1\n",
    "  \n",
    "    #Recur will return the maximum length of continous substring\n",
    "    recur(string_input , len_n) \n",
    "  \n",
    "    return max_val \n",
    "  \n",
    "    \n",
    "# program to execute the above function \n",
    "\n",
    "n = len(String_input) \n",
    "print (\"Length of sequence is \", recur_call(String_input) )"
   ]
  },
  {
   "cell_type": "markdown",
   "metadata": {},
   "source": [
    "2. Show that the running time of the algorithm is exponential. <br>\n",
    "\n",
    "Answer : Due to overlapping and stack, this algorithm is exponential"
   ]
  },
  {
   "cell_type": "markdown",
   "metadata": {},
   "source": [
    "3. Write a program that computes the length of the subsequence of maximum length, using dynamic programming."
   ]
  },
  {
   "cell_type": "code",
   "execution_count": 9,
   "metadata": {},
   "outputs": [
    {
     "name": "stdout",
     "output_type": "stream",
     "text": [
      "length of the longest sequence of characters in alphabetical order:  5\n"
     ]
    }
   ],
   "source": [
    "#Dynamic programming \n",
    "\n",
    "def find_longest_subsequence(String_input):\n",
    "    maximum = []       \n",
    "   \n",
    "    for i in range(0,len(String_input)):                #N times\n",
    "        sequence=[]                                     #O(1)\n",
    "        first=String_input[i]                           #O(1)\n",
    "        #print(\"first\",first)\n",
    "        sequence.append(first) \n",
    "        for letter in String_input[i+1:]:               #N \n",
    "           # print(\"alphabet first\",alphabet[first])\n",
    "           # print(\"alphabet first\",alphabet[letter])\n",
    "           # print(\"first\",first)\n",
    "            if alphabet[first] < alphabet[letter]:     #o(1)\n",
    "                sequence.append(letter)                 #O(1)\n",
    "                first=letter                            #O(1)\n",
    "             #   print(\"letter\",letter)\n",
    "          #  print(\"maximu\",maximum)\n",
    "            if len(maximum) <len(sequence):               #O(1)\n",
    "                maximum=sequence                        #O(1)\n",
    "    return maximum                                    #O(1)\n",
    "\n",
    "alphabet={\"A\":1,\"B\":2,\"C\":3,\"D\":4,\"E\":5,\"F\":6,\"G\":7,\"H\":8,\"I\":9,\"J\":10,\"K\":11,\"L\":12,\"M\":13,\"N\":14,\"O\":15,\"P\":16,\"Q\":17,\"R\":18,\"S\":19,\"T\":20,\"U\":21,\"V\":22,\"W\":23,\"X\":24,\"Y\":25,\"Z\":26}\n",
    "maxx = find_longest_subsequence(String_input)\n",
    "print(\"length of the longest sequence of characters in alphabetical order: \",len(maxx))\n",
    "#print(\"length of the longest sequence of characters in alphabetical order: \",maxx)\n",
    "\n",
    "\n",
    "\n",
    "#Time Complexity: O(n2)                 : Nested loop is used"
   ]
  },
  {
   "cell_type": "markdown",
   "metadata": {},
   "source": [
    "4. What is its runtime complexity? <br>\n",
    "\n",
    "Define as $X[i]$ = \"the length of the longest sequence of characters in alphabetical order that\n",
    "terminates at the i-th character\". One can prove that\n",
    "$X[i] = 1 + max{X[j]; j = 0, ..., i-1, \\ni S[j]<S[i]}$\n",
    "$X[i] = 1$, if there does not exist such a $j$ .\n",
    "\n",
    "As per our understanding, length of max longest sequence will be $i$ and other subsequences will be $i-1$ so $x[i] = max+1$\n"
   ]
  },
  {
   "cell_type": "code",
   "execution_count": null,
   "metadata": {},
   "outputs": [],
   "source": []
  },
  {
   "cell_type": "code",
   "execution_count": null,
   "metadata": {},
   "outputs": [],
   "source": []
  }
 ],
 "metadata": {
  "kernelspec": {
   "display_name": "Python 3",
   "language": "python",
   "name": "python3"
  },
  "language_info": {
   "codemirror_mode": {
    "name": "ipython",
    "version": 3
   },
   "file_extension": ".py",
   "mimetype": "text/x-python",
   "name": "python",
   "nbconvert_exporter": "python",
   "pygments_lexer": "ipython3",
   "version": "3.7.6"
  }
 },
 "nbformat": 4,
 "nbformat_minor": 4
}
